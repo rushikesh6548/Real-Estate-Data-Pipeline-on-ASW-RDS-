{
 "cells": [
  {
   "cell_type": "code",
   "execution_count": null,
   "id": "f57e7c7f",
   "metadata": {},
   "outputs": [],
   "source": [
    "import pandas as pd\n",
    "\n",
    "# Load CSV files\n",
    "facts_df = pd.read_csv('facts_table.csv')\n",
    "sales_dim_df = pd.read_csv('sales_dim.csv')\n",
    "property_dim_df = pd.read_csv('property_dim.csv')\n",
    "location_dim_df = pd.read_csv('location_dim.csv')\n",
    "datetime_dim_df = pd.read_csv('datetime_dim.csv')\n",
    "\n",
    "# Join the tables\n",
    "big_table = pd.merge(facts_df, sales_dim_df, on='sales_id_fact')\n",
    "big_table = pd.merge(big_table, property_dim_df, on='property_id')\n",
    "big_table = pd.merge(big_table, location_dim_df, on='location_id')\n",
    "big_table = pd.merge(big_table, datetime_dim_df, on='datetime_id')\n",
    "\n",
    "# Save denormalized data to a CSV file\n",
    "big_table.to_csv('denormalized_data.csv', index=False)\n"
   ]
  },
  {
   "cell_type": "markdown",
   "id": "26947ea2",
   "metadata": {},
   "source": [
    "## Dumping data into RDS : "
   ]
  },
  {
   "cell_type": "code",
   "execution_count": 1,
   "id": "5e0e5e80",
   "metadata": {
    "scrolled": true
   },
   "outputs": [
    {
     "name": "stdout",
     "output_type": "stream",
     "text": [
      "Requirement already satisfied: mysql-connector-python in c:\\users\\admin\\anaconda3\\lib\\site-packages (8.0.31)\n",
      "Requirement already satisfied: protobuf<=3.20.1,>=3.11.0 in c:\\users\\admin\\anaconda3\\lib\\site-packages (from mysql-connector-python) (3.19.5)\n",
      "Note: you may need to restart the kernel to use updated packages.\n"
     ]
    }
   ],
   "source": [
    "pip install mysql-connector-python\n"
   ]
  },
  {
   "cell_type": "code",
   "execution_count": null,
   "id": "681aac59",
   "metadata": {},
   "outputs": [],
   "source": [
    "import mysql.connector\n",
    "\n",
    "# MySQL database connection parameters\n",
    "db_config = {\n",
    "    user: 'root',\n",
    "    host: 'my-rds-instance.us-west-2.rds.amazonaws.com',\n",
    "    database: 'mydb',\n",
    "    port: 3306  \n",
    "}\n",
    "\n",
    "# Connect to MySQL database\n",
    "conn = mysql.connector.connect(**db_config)\n",
    "cursor = conn.cursor()\n",
    "\n",
    "# Load data into MySQL table\n",
    "with open('denormalized_data.csv', 'r') as file:\n",
    "    next(file)  # Skip header\n",
    "    cursor.execute('CREATE TABLE IF NOT EXISTS denormalized_table (sales_serial_number INT, ...)')\n",
    "    cursor.copy_from(file, 'denormalized_table', sep=',')\n",
    "\n",
    "# Commit changes and close connection\n",
    "conn.commit()\n",
    "conn.close()\n"
   ]
  },
  {
   "cell_type": "code",
   "execution_count": 2,
   "id": "a4177477",
   "metadata": {},
   "outputs": [],
   "source": [
    "## Performing SQL case Study : "
   ]
  },
  {
   "cell_type": "code",
   "execution_count": null,
   "id": "87ee2702",
   "metadata": {},
   "outputs": [],
   "source": [
    "# Calculate the average sales amount for each month in the year 2023. \n",
    "query1 = \"\"\"\n",
    "SELECT residental_type, SUM(sales_amount) AS total_sales_amount\n",
    "FROM denormalized_table\n",
    "GROUP BY residental_type\n",
    "\"\"\"\n",
    "cursor.execute(query1)\n",
    "result1 = cursor.fetchall()\n",
    "print(\"Query 1:\")\n",
    "for row in result1:\n",
    "    print(row)"
   ]
  },
  {
   "cell_type": "code",
   "execution_count": null,
   "id": "d9878f4d",
   "metadata": {},
   "outputs": [],
   "source": [
    "# Find the top 5 property towns with the highest average assessed value.\n",
    "query2 = \"\"\"\n",
    "SELECT property_town, AVG(assessed_value) AS avg_assessed_value\n",
    "FROM denormalized_table\n",
    "GROUP BY property_town\n",
    "ORDER BY avg_assessed_value DESC\n",
    "LIMIT 5;\n",
    "\n",
    "\"\"\"\n",
    "cursor.execute(query2)\n"
   ]
  },
  {
   "cell_type": "code",
   "execution_count": null,
   "id": "15dab08f",
   "metadata": {},
   "outputs": [],
   "source": [
    "# Identify the top 5 property towns with the highest sales-to-assessed value ratio.\n",
    "query3 = \"\"\"\n",
    "SELECT property_town, SUM(sales_amount) / SUM(assessed_value) AS sales_to_assessed_value_ratio\n",
    "FROM denormalized_table\n",
    "GROUP BY property_town\n",
    "ORDER BY sales_to_assessed_value_ratio DESC\n",
    "LIMIT 5;\n",
    "\"\"\"\n",
    "cursor.execute(query3)\n"
   ]
  },
  {
   "cell_type": "code",
   "execution_count": null,
   "id": "01cc8606",
   "metadata": {},
   "outputs": [],
   "source": [
    "# Identify the sales day of the week with the highest total sales ratio.\n",
    "query4 = \"\"\"\n",
    "SELECT sales_weekday, SUM(sales_ratio) AS total_sales_ratio\n",
    "FROM denormalized_table\n",
    "GROUP BY sales_weekday\n",
    "ORDER BY total_sales_ratio DESC\n",
    "LIMIT 1;\n",
    "\n",
    "\"\"\"\n",
    "cursor.execute(query4)\n"
   ]
  }
 ],
 "metadata": {
  "kernelspec": {
   "display_name": "Python 3",
   "language": "python",
   "name": "python3"
  },
  "language_info": {
   "codemirror_mode": {
    "name": "ipython",
    "version": 3
   },
   "file_extension": ".py",
   "mimetype": "text/x-python",
   "name": "python",
   "nbconvert_exporter": "python",
   "pygments_lexer": "ipython3",
   "version": "3.8.8"
  }
 },
 "nbformat": 4,
 "nbformat_minor": 5
}
